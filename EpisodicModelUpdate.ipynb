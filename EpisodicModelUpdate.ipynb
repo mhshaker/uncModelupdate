{
 "cells": [
  {
   "cell_type": "code",
   "execution_count": 55,
   "metadata": {},
   "outputs": [],
   "source": [
    "# load data -- Done\n",
    "# train model \n",
    "# episode update loop\n",
    "    # seperate data to episods -- Done\n",
    "    # uncertainty calculation\n",
    "    # update code"
   ]
  },
  {
   "cell_type": "markdown",
   "metadata": {},
   "source": [
    "# Parameters"
   ]
  },
  {
   "cell_type": "code",
   "execution_count": 56,
   "metadata": {},
   "outputs": [],
   "source": [
    "episodes_p =  0.05\n",
    "seed = 1"
   ]
  },
  {
   "cell_type": "markdown",
   "metadata": {},
   "source": [
    "# load data"
   ]
  },
  {
   "cell_type": "code",
   "execution_count": 57,
   "metadata": {},
   "outputs": [],
   "source": [
    "import data_provider as dp\n",
    "import numpy as np\n",
    "# load the data\n",
    "features_all, targets_all   = dp.load_data(\"./Data/\")\n",
    "data = np.concatenate((features_all,targets_all), axis=1)"
   ]
  },
  {
   "cell_type": "code",
   "execution_count": 58,
   "metadata": {},
   "outputs": [],
   "source": [
    "# import pandas as pd\n",
    "# data = pd.read_csv('Data/spambase.csv')\n",
    "# data = data.sample(frac=1)"
   ]
  },
  {
   "cell_type": "code",
   "execution_count": 59,
   "metadata": {},
   "outputs": [],
   "source": [
    "from skmultiflow.data import DataStream\n",
    "stream = DataStream(data)\n",
    "stream_length = stream.n_remaining_samples()\n",
    "episode_size = int(stream_length * episodes_p)\n",
    "stream.restart()\n",
    "# features_list, targets_list = dp.partition_data(features_all, targets_all, episodes) # old way to make episodes"
   ]
  },
  {
   "cell_type": "markdown",
   "metadata": {},
   "source": [
    "# initial training"
   ]
  },
  {
   "cell_type": "code",
   "execution_count": 60,
   "metadata": {},
   "outputs": [
    {
     "data": {
      "text/html": [
       "<style>#sk-container-id-6 {color: black;background-color: white;}#sk-container-id-6 pre{padding: 0;}#sk-container-id-6 div.sk-toggleable {background-color: white;}#sk-container-id-6 label.sk-toggleable__label {cursor: pointer;display: block;width: 100%;margin-bottom: 0;padding: 0.3em;box-sizing: border-box;text-align: center;}#sk-container-id-6 label.sk-toggleable__label-arrow:before {content: \"▸\";float: left;margin-right: 0.25em;color: #696969;}#sk-container-id-6 label.sk-toggleable__label-arrow:hover:before {color: black;}#sk-container-id-6 div.sk-estimator:hover label.sk-toggleable__label-arrow:before {color: black;}#sk-container-id-6 div.sk-toggleable__content {max-height: 0;max-width: 0;overflow: hidden;text-align: left;background-color: #f0f8ff;}#sk-container-id-6 div.sk-toggleable__content pre {margin: 0.2em;color: black;border-radius: 0.25em;background-color: #f0f8ff;}#sk-container-id-6 input.sk-toggleable__control:checked~div.sk-toggleable__content {max-height: 200px;max-width: 100%;overflow: auto;}#sk-container-id-6 input.sk-toggleable__control:checked~label.sk-toggleable__label-arrow:before {content: \"▾\";}#sk-container-id-6 div.sk-estimator input.sk-toggleable__control:checked~label.sk-toggleable__label {background-color: #d4ebff;}#sk-container-id-6 div.sk-label input.sk-toggleable__control:checked~label.sk-toggleable__label {background-color: #d4ebff;}#sk-container-id-6 input.sk-hidden--visually {border: 0;clip: rect(1px 1px 1px 1px);clip: rect(1px, 1px, 1px, 1px);height: 1px;margin: -1px;overflow: hidden;padding: 0;position: absolute;width: 1px;}#sk-container-id-6 div.sk-estimator {font-family: monospace;background-color: #f0f8ff;border: 1px dotted black;border-radius: 0.25em;box-sizing: border-box;margin-bottom: 0.5em;}#sk-container-id-6 div.sk-estimator:hover {background-color: #d4ebff;}#sk-container-id-6 div.sk-parallel-item::after {content: \"\";width: 100%;border-bottom: 1px solid gray;flex-grow: 1;}#sk-container-id-6 div.sk-label:hover label.sk-toggleable__label {background-color: #d4ebff;}#sk-container-id-6 div.sk-serial::before {content: \"\";position: absolute;border-left: 1px solid gray;box-sizing: border-box;top: 0;bottom: 0;left: 50%;z-index: 0;}#sk-container-id-6 div.sk-serial {display: flex;flex-direction: column;align-items: center;background-color: white;padding-right: 0.2em;padding-left: 0.2em;position: relative;}#sk-container-id-6 div.sk-item {position: relative;z-index: 1;}#sk-container-id-6 div.sk-parallel {display: flex;align-items: stretch;justify-content: center;background-color: white;position: relative;}#sk-container-id-6 div.sk-item::before, #sk-container-id-6 div.sk-parallel-item::before {content: \"\";position: absolute;border-left: 1px solid gray;box-sizing: border-box;top: 0;bottom: 0;left: 50%;z-index: -1;}#sk-container-id-6 div.sk-parallel-item {display: flex;flex-direction: column;z-index: 1;position: relative;background-color: white;}#sk-container-id-6 div.sk-parallel-item:first-child::after {align-self: flex-end;width: 50%;}#sk-container-id-6 div.sk-parallel-item:last-child::after {align-self: flex-start;width: 50%;}#sk-container-id-6 div.sk-parallel-item:only-child::after {width: 0;}#sk-container-id-6 div.sk-dashed-wrapped {border: 1px dashed gray;margin: 0 0.4em 0.5em 0.4em;box-sizing: border-box;padding-bottom: 0.4em;background-color: white;}#sk-container-id-6 div.sk-label label {font-family: monospace;font-weight: bold;display: inline-block;line-height: 1.2em;}#sk-container-id-6 div.sk-label-container {text-align: center;}#sk-container-id-6 div.sk-container {/* jupyter's `normalize.less` sets `[hidden] { display: none; }` but bootstrap.min.css set `[hidden] { display: none !important; }` so we also need the `!important` here to be able to override the default hidden behavior on the sphinx rendered scikit-learn.org. See: https://github.com/scikit-learn/scikit-learn/issues/21755 */display: inline-block !important;position: relative;}#sk-container-id-6 div.sk-text-repr-fallback {display: none;}</style><div id=\"sk-container-id-6\" class=\"sk-top-container\"><div class=\"sk-text-repr-fallback\"><pre>RandomForestClassifier(max_depth=10, n_estimators=10, random_state=1)</pre><b>In a Jupyter environment, please rerun this cell to show the HTML representation or trust the notebook. <br />On GitHub, the HTML representation is unable to render, please try loading this page with nbviewer.org.</b></div><div class=\"sk-container\" hidden><div class=\"sk-item\"><div class=\"sk-estimator sk-toggleable\"><input class=\"sk-toggleable__control sk-hidden--visually\" id=\"sk-estimator-id-6\" type=\"checkbox\" checked><label for=\"sk-estimator-id-6\" class=\"sk-toggleable__label sk-toggleable__label-arrow\">RandomForestClassifier</label><div class=\"sk-toggleable__content\"><pre>RandomForestClassifier(max_depth=10, n_estimators=10, random_state=1)</pre></div></div></div></div></div>"
      ],
      "text/plain": [
       "RandomForestClassifier(max_depth=10, n_estimators=10, random_state=1)"
      ]
     },
     "execution_count": 60,
     "metadata": {},
     "output_type": "execute_result"
    }
   ],
   "source": [
    "from sklearn.ensemble import RandomForestClassifier\n",
    "import Uncertainty as unc\n",
    "\n",
    "# defining the model\n",
    "model = RandomForestClassifier(max_depth=10, n_estimators=10, random_state=seed)\n",
    "x_train, y_train = stream.next_sample(episode_size)\n",
    "model.fit(x_train, y_train)"
   ]
  },
  {
   "cell_type": "code",
   "execution_count": 61,
   "metadata": {},
   "outputs": [],
   "source": [
    "# set uncertainty score\n",
    "x_set, y_set = stream.next_sample(episode_size * 2)\n",
    "tu, eu, au = unc.model_uncertainty(model, x_set, x_train, y_train, laplace_smoothing=1)\n",
    "\n",
    "tu_set = tu.mean()\n",
    "score_set = model.score(x_set, y_set)"
   ]
  },
  {
   "cell_type": "markdown",
   "metadata": {},
   "source": [
    "# Uncertainty detection"
   ]
  },
  {
   "cell_type": "code",
   "execution_count": 62,
   "metadata": {},
   "outputs": [
    {
     "name": "stdout",
     "output_type": "stream",
     "text": [
      "episode  1 D\n",
      "episode  2 D\n",
      "episode  3 D\n",
      "episode  4\n",
      "episode  5\n",
      "episode  6\n",
      "episode  7 D\n",
      "episode  8\n",
      "episode  9\n",
      "episode  10 D\n",
      "episode  11\n",
      "episode  12 D\n",
      "episode  13 D\n",
      "episode  14\n",
      "episode  15\n",
      "episode  16\n",
      "episode  17\n",
      "episode  18 D\n"
     ]
    },
    {
     "data": {
      "text/plain": [
       "[0.9,\n",
       " 0.8913043478260869,\n",
       " 0.9347826086956522,\n",
       " 0.9347826086956522,\n",
       " 0.9043478260869565,\n",
       " 0.9391304347826087,\n",
       " 0.9,\n",
       " 0.9217391304347826,\n",
       " 0.9173913043478261,\n",
       " 0.908695652173913,\n",
       " 0.9043478260869565,\n",
       " 0.8695652173913043,\n",
       " 0.9260869565217391,\n",
       " 0.8478260869565217,\n",
       " 0.9,\n",
       " 0.8826086956521739,\n",
       " 0.8739130434782608,\n",
       " 1.0]"
      ]
     },
     "execution_count": 62,
     "metadata": {},
     "output_type": "execute_result"
    }
   ],
   "source": [
    "# episode loop\n",
    "update_model = True\n",
    "updatecounter = 0\n",
    "episode = 0\n",
    "stream_score_unc = []\n",
    "while True:\n",
    "    # setup new episode\n",
    "    x_ep, y_ep = stream.next_sample(episode_size)\n",
    "    if len(y_ep) == 0:\n",
    "        break\n",
    "    episode +=1\n",
    "\n",
    "    stream_score_unc.append(model.score(x_ep, y_ep))\n",
    "\n",
    "    tu, eu, au = unc.model_uncertainty(model, x_ep, x_train, y_train, laplace_smoothing=1)\n",
    "    tu_ep = tu.mean()\n",
    "    if tu_ep > tu_set:\n",
    "        update_model = True\n",
    "        print(\"episode \", episode, \"D\")\n",
    "    else:\n",
    "        print(\"episode \", episode)\n",
    "\n",
    "    # train the model / update\n",
    "    if update_model:\n",
    "        x_train, y_train = x_ep, y_ep\n",
    "        model.fit(x_ep, y_ep) # remove keys when fiting the model\n",
    "        update_model = False\n",
    "        updatecounter +=1\n",
    "stream_score_unc"
   ]
  },
  {
   "cell_type": "markdown",
   "metadata": {},
   "source": [
    "# Error detection"
   ]
  },
  {
   "cell_type": "code",
   "execution_count": 63,
   "metadata": {},
   "outputs": [
    {
     "name": "stdout",
     "output_type": "stream",
     "text": [
      "episode  1\n",
      "episode  2\n",
      "episode  3 D\n",
      "episode  4 D\n",
      "episode  5 D\n",
      "episode  6 D\n",
      "episode  7\n",
      "episode  8 D\n",
      "episode  9\n",
      "episode  10\n",
      "episode  11\n",
      "episode  12\n",
      "episode  13 D\n",
      "episode  14\n",
      "episode  15\n",
      "episode  16\n",
      "episode  17\n",
      "episode  18 D\n"
     ]
    },
    {
     "data": {
      "text/plain": [
       "[0.3782608695652174,\n",
       " 0.8913043478260869,\n",
       " 0.9304347826086956,\n",
       " 0.9347826086956522,\n",
       " 0.9173913043478261,\n",
       " 0.9260869565217391,\n",
       " 0.908695652173913,\n",
       " 0.9391304347826087,\n",
       " 0.9,\n",
       " 0.8956521739130435,\n",
       " 0.9130434782608695,\n",
       " 0.8782608695652174,\n",
       " 0.9391304347826087,\n",
       " 0.8478260869565217,\n",
       " 0.9,\n",
       " 0.8826086956521739,\n",
       " 0.8739130434782608,\n",
       " 1.0]"
      ]
     },
     "execution_count": 63,
     "metadata": {},
     "output_type": "execute_result"
    }
   ],
   "source": [
    "stream.restart()\n",
    "_, _ = stream.next_sample(episode_size * 3)\n",
    "\n",
    "# episode loop\n",
    "update_model = True\n",
    "updatecounter_score = 0\n",
    "episode = 0\n",
    "stream_score_score = []\n",
    "while True:\n",
    "    # setup new episode\n",
    "    x_ep, y_ep = stream.next_sample(episode_size)\n",
    "    if len(y_ep) == 0:\n",
    "        break\n",
    "    episode +=1\n",
    "\n",
    "    ep_score = model.score(x_ep, y_ep)\n",
    "    stream_score_score.append(ep_score)\n",
    "\n",
    "    if ep_score > score_set:\n",
    "        update_model = True\n",
    "        print(\"episode \", episode, \"D\")\n",
    "    else:\n",
    "        print(\"episode \", episode)\n",
    "\n",
    "\n",
    "    # train the model / update\n",
    "    if update_model:\n",
    "        x_train, y_train = x_ep, y_ep\n",
    "        model.fit(x_ep, y_ep) # remove keys when fiting the model\n",
    "        update_model = False\n",
    "        updatecounter_score +=1\n",
    "stream_score_score"
   ]
  },
  {
   "cell_type": "markdown",
   "metadata": {},
   "source": [
    "# always update"
   ]
  },
  {
   "cell_type": "code",
   "execution_count": 64,
   "metadata": {},
   "outputs": [
    {
     "name": "stdout",
     "output_type": "stream",
     "text": [
      "episode  0\n",
      "episode  1\n",
      "episode  2\n",
      "episode  3\n",
      "episode  4\n",
      "episode  5\n",
      "episode  6\n",
      "episode  7\n",
      "episode  8\n",
      "episode  9\n",
      "episode  10\n",
      "episode  11\n",
      "episode  12\n",
      "episode  13\n",
      "episode  14\n",
      "episode  15\n",
      "episode  16\n",
      "episode  17\n",
      "episode  18\n"
     ]
    },
    {
     "data": {
      "text/plain": [
       "[0.3782608695652174,\n",
       " 0.8913043478260869,\n",
       " 0.9347826086956522,\n",
       " 0.9347826086956522,\n",
       " 0.9173913043478261,\n",
       " 0.9260869565217391,\n",
       " 0.908695652173913,\n",
       " 0.9217391304347826,\n",
       " 0.9,\n",
       " 0.9,\n",
       " 0.9043478260869565,\n",
       " 0.8478260869565217,\n",
       " 0.9260869565217391,\n",
       " 0.8478260869565217,\n",
       " 0.8956521739130435,\n",
       " 0.8956521739130435,\n",
       " 0.8826086956521739,\n",
       " 1.0]"
      ]
     },
     "execution_count": 64,
     "metadata": {},
     "output_type": "execute_result"
    }
   ],
   "source": [
    "stream.restart()\n",
    "_, _ = stream.next_sample(episode_size * 3)\n",
    "\n",
    "# episode loop\n",
    "update_model = True\n",
    "updatecounter_all = 0\n",
    "episode = 0\n",
    "stream_score_all = []\n",
    "while True:\n",
    "    print(\"episode \", episode)\n",
    "    # setup new episode\n",
    "    x_ep, y_ep = stream.next_sample(episode_size)\n",
    "    if len(y_ep) == 0:\n",
    "        break\n",
    "    episode +=1\n",
    "\n",
    "    stream_score_all.append(model.score(x_ep, y_ep))\n",
    "\n",
    "    # train the model / update\n",
    "    if update_model:\n",
    "        x_train, y_train = x_ep, y_ep\n",
    "        model.fit(x_ep, y_ep) # remove keys when fiting the model\n",
    "        updatecounter_all +=1\n",
    "stream_score_all"
   ]
  },
  {
   "cell_type": "code",
   "execution_count": 65,
   "metadata": {},
   "outputs": [
    {
     "data": {
      "image/png": "[encoded data removed]",
      "text/plain": [
       "<Figure size 640x480 with 1 Axes>"
      ]
     },
     "metadata": {},
     "output_type": "display_data"
    }
   ],
   "source": [
    "import matplotlib.pyplot as plt\n",
    "\n",
    "plt.plot(stream_score_unc, label=\"unc\")\n",
    "plt.plot(stream_score_score, label=\"error\")\n",
    "plt.plot(stream_score_all, label=\"all\")\n",
    "plt.legend()\n",
    "plt.show()"
   ]
  }
 ],
 "metadata": {
  "kernelspec": {
   "display_name": "Python 3.8.10 ('uncModelupdate-yt1O0VA7')",
   "language": "python",
   "name": "python3"
  },
  "language_info": {
   "codemirror_mode": {
    "name": "ipython",
    "version": 3
   },
   "file_extension": ".py",
   "mimetype": "text/x-python",
   "name": "python",
   "nbconvert_exporter": "python",
   "pygments_lexer": "ipython3",
   "version": "3.8.10"
  },
  "orig_nbformat": 4,
  "vscode": {
   "interpreter": {
    "hash": "bea094d18a20fecd6561eb6974be6876f8f742daff8089e1070d7e98e4fdf6c7"
   }
  }
 },
 "nbformat": 4,
 "nbformat_minor": 2
}
